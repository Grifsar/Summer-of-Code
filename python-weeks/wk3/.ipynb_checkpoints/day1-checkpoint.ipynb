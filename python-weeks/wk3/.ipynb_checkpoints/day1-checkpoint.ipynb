{
 "cells": [
  {
   "cell_type": "code",
   "execution_count": 1,
   "metadata": {},
   "outputs": [
    {
     "name": "stdout",
     "output_type": "stream",
     "text": [
      "loving\n",
      "eclipsing\n",
      "contemplating\n",
      "coding\n",
      "coding\n",
      "typing\n",
      "creating\n",
      "testing\n",
      "innovating-waterskiing!smiling.panicking\n",
      "pythoning\n"
     ]
    }
   ],
   "source": [
    "for line in open(\"file.txt\"):\n",
    "    for word in line.split():\n",
    "        if word.endswith('ing'):\n",
    "            print(word)"
   ]
  },
  {
   "cell_type": "code",
   "execution_count": 4,
   "metadata": {},
   "outputs": [],
   "source": [
    "import nltk\n",
    "import numpy\n",
    "\n",
    "# * means 'everything' or 'all'# * mea \n",
    "from nltk.book import *"
   ]
  },
  {
   "cell_type": "code",
   "execution_count": 5,
   "metadata": {},
   "outputs": [
    {
     "name": "stdout",
     "output_type": "stream",
     "text": [
      "Displaying 25 of 25 matches:\n",
      "ery as Mrs . Jennings ' s . Colonel Brandon , the friend of Sir John , seemed n\n",
      "arison of it the gravity of Colonel Brandon , and even the boisterous mirth of \n",
      "arianne had just finished . Colonel Brandon alone , of all the party , heard he\n",
      "ecisively to pronounce that Colonel Brandon was very much in love with Marianne\n",
      "ngs had been anxious to see Colonel Brandon well married , ever since her conne\n",
      "tentionally ill - natured . Colonel Brandon is certainly younger than Mrs . Jen\n",
      "said Elinor , \" do you call Colonel Brandon infirm ? I can easily suppose that \n",
      "ice . I know very well that Colonel Brandon is not old enough to make his frien\n",
      "twenty , I should not think Colonel Brandon ' s being thirty - five any objecti\n",
      "must object to your dooming Colonel Brandon and his wife to the constant confin\n",
      "ct to have all the men to herself . Brandon will be jealous , if she does not t\n",
      "t him now , and never think of poor Brandon .\" \" That is an expression , Sir Jo\n",
      " dare say , one way or other . Poor Brandon ! he is quite smitten already , and\n",
      " as Edward and Willoughby . Colonel Brandon ' s partiality for Marianne , which\n",
      " hindrance to the regard of Colonel Brandon . She saw it with concern ; for wha\n",
      "solved to undervalue his merits . \" Brandon is just the kind of man ,\" said Wil\n",
      "rable reasons for disliking Colonel Brandon ; he threatened me with rain when I\n",
      "t her troublesome boys . In Colonel Brandon alone , of all her new acquaintance\n",
      "n more generally pleasing . Colonel Brandon , unfortunately for himself , had n\n",
      " was immediately pursued by Colonel Brandon , who was on every occasion mindful\n",
      " to a brother - in - law of Colonel Brandon , without whose interest it could n\n",
      " the rest there was one for Colonel Brandon ;-- he took it , looked at the dire\n",
      "he room . \" What is the matter with Brandon ?\" said Sir John . Nobody could tel\n",
      "traordinary that could make Colonel Brandon leave my breakfast table so suddenl\n",
      "te a note to the housekeeper , Mr . Brandon ,\" said Marianne , eagerly , \" will\n"
     ]
    }
   ],
   "source": [
    "text2.concordance(\"Brandon\")"
   ]
  },
  {
   "cell_type": "code",
   "execution_count": 2,
   "metadata": {},
   "outputs": [
    {
     "ename": "ModuleNotFoundError",
     "evalue": "No module named 'matplotlib'",
     "output_type": "error",
     "traceback": [
      "\u001b[1;31m---------------------------------------------------------------------------\u001b[0m",
      "\u001b[1;31mModuleNotFoundError\u001b[0m                       Traceback (most recent call last)",
      "\u001b[1;32m<ipython-input-2-ec4a7b4a27be>\u001b[0m in \u001b[0;36m<module>\u001b[1;34m()\u001b[0m\n\u001b[0;32m      1\u001b[0m \u001b[1;32mimport\u001b[0m \u001b[0mnltk\u001b[0m\u001b[1;33m\u001b[0m\u001b[0m\n\u001b[0;32m      2\u001b[0m \u001b[1;32mimport\u001b[0m \u001b[0mnumpy\u001b[0m\u001b[1;33m\u001b[0m\u001b[0m\n\u001b[1;32m----> 3\u001b[1;33m \u001b[1;32mimport\u001b[0m \u001b[0mmatplotlib\u001b[0m\u001b[1;33m\u001b[0m\u001b[0m\n\u001b[0m\u001b[0;32m      4\u001b[0m \u001b[1;33m\u001b[0m\u001b[0m\n\u001b[0;32m      5\u001b[0m \u001b[1;32mfrom\u001b[0m \u001b[0mnltk\u001b[0m\u001b[1;33m.\u001b[0m\u001b[0mbook\u001b[0m \u001b[1;32mimport\u001b[0m \u001b[1;33m*\u001b[0m\u001b[1;33m\u001b[0m\u001b[0m\n",
      "\u001b[1;31mModuleNotFoundError\u001b[0m: No module named 'matplotlib'"
     ]
    }
   ],
   "source": [
    "import nltk\n",
    "import numpy\n",
    "import matplotlib\n",
    "\n",
    "#from nltk.book import *\n",
    "#text4.dispersion_plot([\"citizens\", \"democracy\",])"
   ]
  },
  {
   "cell_type": "code",
   "execution_count": null,
   "metadata": {},
   "outputs": [],
   "source": []
  }
 ],
 "metadata": {
  "kernelspec": {
   "display_name": "Python 3",
   "language": "python",
   "name": "python3"
  },
  "language_info": {
   "codemirror_mode": {
    "name": "ipython",
    "version": 3
   },
   "file_extension": ".py",
   "mimetype": "text/x-python",
   "name": "python",
   "nbconvert_exporter": "python",
   "pygments_lexer": "ipython3",
   "version": "3.6.6"
  }
 },
 "nbformat": 4,
 "nbformat_minor": 2
}
