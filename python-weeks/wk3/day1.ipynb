{
 "cells": [
  {
   "cell_type": "code",
   "execution_count": 1,
   "metadata": {},
   "outputs": [
    {
     "name": "stdout",
     "output_type": "stream",
     "text": [
      "loving\n",
      "eclipsing\n",
      "contemplating\n",
      "coding\n",
      "coding\n",
      "typing\n",
      "creating\n",
      "testing\n",
      "innovating-waterskiing!smiling.panicking\n",
      "pythoning\n"
     ]
    }
   ],
   "source": [
    "for line in open(\"file.txt\"):\n",
    "    for word in line.split():\n",
    "        if word.endswith('ing'):\n",
    "            print(word)"
   ]
  },
  {
   "cell_type": "code",
   "execution_count": 17,
   "metadata": {},
   "outputs": [],
   "source": [
    "import nltk\n",
    "import numpy\n",
    "\n",
    "from nltk.book import *"
   ]
  },
  {
   "cell_type": "code",
   "execution_count": 5,
   "metadata": {},
   "outputs": [
    {
     "name": "stdout",
     "output_type": "stream",
     "text": [
      "Displaying 25 of 25 matches:\n",
      "ery as Mrs . Jennings ' s . Colonel Brandon , the friend of Sir John , seemed n\n",
      "arison of it the gravity of Colonel Brandon , and even the boisterous mirth of \n",
      "arianne had just finished . Colonel Brandon alone , of all the party , heard he\n",
      "ecisively to pronounce that Colonel Brandon was very much in love with Marianne\n",
      "ngs had been anxious to see Colonel Brandon well married , ever since her conne\n",
      "tentionally ill - natured . Colonel Brandon is certainly younger than Mrs . Jen\n",
      "said Elinor , \" do you call Colonel Brandon infirm ? I can easily suppose that \n",
      "ice . I know very well that Colonel Brandon is not old enough to make his frien\n",
      "twenty , I should not think Colonel Brandon ' s being thirty - five any objecti\n",
      "must object to your dooming Colonel Brandon and his wife to the constant confin\n",
      "ct to have all the men to herself . Brandon will be jealous , if she does not t\n",
      "t him now , and never think of poor Brandon .\" \" That is an expression , Sir Jo\n",
      " dare say , one way or other . Poor Brandon ! he is quite smitten already , and\n",
      " as Edward and Willoughby . Colonel Brandon ' s partiality for Marianne , which\n",
      " hindrance to the regard of Colonel Brandon . She saw it with concern ; for wha\n",
      "solved to undervalue his merits . \" Brandon is just the kind of man ,\" said Wil\n",
      "rable reasons for disliking Colonel Brandon ; he threatened me with rain when I\n",
      "t her troublesome boys . In Colonel Brandon alone , of all her new acquaintance\n",
      "n more generally pleasing . Colonel Brandon , unfortunately for himself , had n\n",
      " was immediately pursued by Colonel Brandon , who was on every occasion mindful\n",
      " to a brother - in - law of Colonel Brandon , without whose interest it could n\n",
      " the rest there was one for Colonel Brandon ;-- he took it , looked at the dire\n",
      "he room . \" What is the matter with Brandon ?\" said Sir John . Nobody could tel\n",
      "traordinary that could make Colonel Brandon leave my breakfast table so suddenl\n",
      "te a note to the housekeeper , Mr . Brandon ,\" said Marianne , eagerly , \" will\n"
     ]
    }
   ],
   "source": [
    "text2.concordance(\"Brandon\")"
   ]
  },
  {
   "cell_type": "code",
   "execution_count": 7,
   "metadata": {},
   "outputs": [
    {
     "data": {
      "image/png": "[encoded data removed]",
      "text/plain": [
       "<Figure size 432x288 with 1 Axes>"
      ]
     },
     "metadata": {},
     "output_type": "display_data"
    }
   ],
   "source": [
    "import nltk\n",
    "import numpy\n",
    "import matplotlib\n",
    "\n",
    "#from nltk.book import *\n",
    "text4.dispersion_plot([\"citizens\", \"democracy\",])"
   ]
  },
  {
   "cell_type": "code",
   "execution_count": 8,
   "metadata": {
    "scrolled": true
   },
   "outputs": [
    {
     "data": {
      "image/png": "[encoded data removed]",
      "text/plain": [
       "<Figure size 432x288 with 1 Axes>"
      ]
     },
     "metadata": {},
     "output_type": "display_data"
    }
   ],
   "source": [
    "import nltk\n",
    "import numpy\n",
    "import matplotlib\n",
    "\n",
    "text4.dispersion_plot([\"woman\",\"women\", \"child\", \"family\"])"
   ]
  },
  {
   "cell_type": "code",
   "execution_count": null,
   "metadata": {},
   "outputs": [],
   "source": [
    "#In section 4.2 do exercises 5 and 6"
   ]
  },
  {
   "cell_type": "code",
   "execution_count": 12,
   "metadata": {},
   "outputs": [],
   "source": [
    "words = len(text4) #total words"
   ]
  },
  {
   "cell_type": "code",
   "execution_count": 13,
   "metadata": {},
   "outputs": [],
   "source": [
    "unique_words = len(set(text4))#unique words"
   ]
  },
  {
   "cell_type": "code",
   "execution_count": 14,
   "metadata": {},
   "outputs": [
    {
     "data": {
      "text/plain": [
       "6.692970116993173"
      ]
     },
     "execution_count": 14,
     "metadata": {},
     "output_type": "execute_result"
    }
   ],
   "source": [
    "(unique_words/words)*100"
   ]
  },
  {
   "cell_type": "code",
   "execution_count": 15,
   "metadata": {},
   "outputs": [
    {
     "name": "stdout",
     "output_type": "stream",
     "text": [
      "a_in a_who young_who a_of a_as a_to young_of of_, a_whose young_.\n",
      "respectable_, charming_, young_, a_, other_in a_whom\n"
     ]
    }
   ],
   "source": [
    "text2.common_contexts([\"woman\",\"man\"])"
   ]
  },
  {
   "cell_type": "code",
   "execution_count": 16,
   "metadata": {},
   "outputs": [
    {
     "name": "stdout",
     "output_type": "stream",
     "text": [
      "old_, mortal_, a_' old_of old_'\n"
     ]
    }
   ],
   "source": [
    "text1.common_contexts([\"woman\",\"man\"])"
   ]
  },
  {
   "cell_type": "code",
   "execution_count": 19,
   "metadata": {},
   "outputs": [
    {
     "name": "stdout",
     "output_type": "stream",
     "text": [
      "<FreqDist with 6833 samples and 141576 outcomes>\n"
     ]
    }
   ],
   "source": [
    "fdlist2 = FreqDist(text2)\n",
    "print(fdlist2)"
   ]
  },
  {
   "cell_type": "code",
   "execution_count": 20,
   "metadata": {},
   "outputs": [
    {
     "data": {
      "text/plain": [
       "[(',', 9397),\n",
       " ('to', 4063),\n",
       " ('.', 3975),\n",
       " ('the', 3861),\n",
       " ('of', 3565),\n",
       " ('and', 3350),\n",
       " ('her', 2436),\n",
       " ('a', 2043),\n",
       " ('I', 2004),\n",
       " ('in', 1904),\n",
       " ('was', 1846),\n",
       " ('it', 1568),\n",
       " ('\"', 1506),\n",
       " (';', 1419),\n",
       " ('she', 1333),\n",
       " ('be', 1305),\n",
       " ('that', 1297),\n",
       " ('for', 1234),\n",
       " ('not', 1212),\n",
       " ('as', 1179),\n",
       " ('you', 1037),\n",
       " ('with', 971),\n",
       " ('had', 969),\n",
       " ('his', 941),\n",
       " ('he', 895),\n",
       " (\"'\", 883),\n",
       " ('have', 807),\n",
       " ('at', 806),\n",
       " ('by', 737),\n",
       " ('is', 728),\n",
       " ('.\"', 721),\n",
       " ('s', 700),\n",
       " ('Elinor', 684),\n",
       " ('on', 676),\n",
       " ('all', 642),\n",
       " ('him', 633),\n",
       " ('so', 617),\n",
       " ('but', 597),\n",
       " ('which', 592),\n",
       " ('could', 568),\n",
       " ('Marianne', 566),\n",
       " ('my', 551)]"
      ]
     },
     "execution_count": 20,
     "metadata": {},
     "output_type": "execute_result"
    }
   ],
   "source": [
    "fdlist2.most_common(42)"
   ]
  }
 ],
 "metadata": {
  "kernelspec": {
   "display_name": "Python 3",
   "language": "python",
   "name": "python3"
  },
  "language_info": {
   "codemirror_mode": {
    "name": "ipython",
    "version": 3
   },
   "file_extension": ".py",
   "mimetype": "text/x-python",
   "name": "python",
   "nbconvert_exporter": "python",
   "pygments_lexer": "ipython3",
   "version": "3.6.6"
  }
 },
 "nbformat": 4,
 "nbformat_minor": 2
}
